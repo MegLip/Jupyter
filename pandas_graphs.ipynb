{
 "cells": [
  {
   "cell_type": "code",
   "execution_count": 6,
   "metadata": {},
   "outputs": [],
   "source": [
    "import pandas as pd"
   ]
  },
  {
   "cell_type": "code",
   "execution_count": 42,
   "metadata": {},
   "outputs": [
    {
     "data": {
      "text/html": [
       "<div>\n",
       "<style scoped>\n",
       "    .dataframe tbody tr th:only-of-type {\n",
       "        vertical-align: middle;\n",
       "    }\n",
       "\n",
       "    .dataframe tbody tr th {\n",
       "        vertical-align: top;\n",
       "    }\n",
       "\n",
       "    .dataframe thead th {\n",
       "        text-align: right;\n",
       "    }\n",
       "</style>\n",
       "<table border=\"1\" class=\"dataframe\">\n",
       "  <thead>\n",
       "    <tr style=\"text-align: right;\">\n",
       "      <th></th>\n",
       "      <th>Price_PLN</th>\n",
       "      <th>Price_USD</th>\n",
       "    </tr>\n",
       "    <tr>\n",
       "      <th>Month</th>\n",
       "      <th></th>\n",
       "      <th></th>\n",
       "    </tr>\n",
       "  </thead>\n",
       "  <tbody>\n",
       "    <tr>\n",
       "      <th>1</th>\n",
       "      <td>2.12</td>\n",
       "      <td>0.5300</td>\n",
       "    </tr>\n",
       "    <tr>\n",
       "      <th>2</th>\n",
       "      <td>2.56</td>\n",
       "      <td>0.6400</td>\n",
       "    </tr>\n",
       "    <tr>\n",
       "      <th>3</th>\n",
       "      <td>3.10</td>\n",
       "      <td>0.7750</td>\n",
       "    </tr>\n",
       "    <tr>\n",
       "      <th>4</th>\n",
       "      <td>3.16</td>\n",
       "      <td>0.7900</td>\n",
       "    </tr>\n",
       "    <tr>\n",
       "      <th>5</th>\n",
       "      <td>3.58</td>\n",
       "      <td>0.8950</td>\n",
       "    </tr>\n",
       "    <tr>\n",
       "      <th>6</th>\n",
       "      <td>5.12</td>\n",
       "      <td>1.2800</td>\n",
       "    </tr>\n",
       "    <tr>\n",
       "      <th>7</th>\n",
       "      <td>5.16</td>\n",
       "      <td>1.2900</td>\n",
       "    </tr>\n",
       "    <tr>\n",
       "      <th>8</th>\n",
       "      <td>5.20</td>\n",
       "      <td>1.3000</td>\n",
       "    </tr>\n",
       "    <tr>\n",
       "      <th>9</th>\n",
       "      <td>4.12</td>\n",
       "      <td>1.0300</td>\n",
       "    </tr>\n",
       "    <tr>\n",
       "      <th>10</th>\n",
       "      <td>4.10</td>\n",
       "      <td>1.0250</td>\n",
       "    </tr>\n",
       "    <tr>\n",
       "      <th>11</th>\n",
       "      <td>3.65</td>\n",
       "      <td>0.9125</td>\n",
       "    </tr>\n",
       "    <tr>\n",
       "      <th>12</th>\n",
       "      <td>4.25</td>\n",
       "      <td>1.0625</td>\n",
       "    </tr>\n",
       "  </tbody>\n",
       "</table>\n",
       "</div>"
      ],
      "text/plain": [
       "       Price_PLN  Price_USD\n",
       "Month                      \n",
       "1           2.12     0.5300\n",
       "2           2.56     0.6400\n",
       "3           3.10     0.7750\n",
       "4           3.16     0.7900\n",
       "5           3.58     0.8950\n",
       "6           5.12     1.2800\n",
       "7           5.16     1.2900\n",
       "8           5.20     1.3000\n",
       "9           4.12     1.0300\n",
       "10          4.10     1.0250\n",
       "11          3.65     0.9125\n",
       "12          4.25     1.0625"
      ]
     },
     "execution_count": 42,
     "metadata": {},
     "output_type": "execute_result"
    }
   ],
   "source": [
    "prices = [\n",
    "    (1, 2.12),\n",
    "    (2, 2.56),\n",
    "    (3, 3.10),\n",
    "    (4, 3.16),\n",
    "    (5, 3.58),\n",
    "    (6, 5.12),\n",
    "    (7, 5.16),\n",
    "    (8, 5.20),\n",
    "    (9, 4.12),\n",
    "    (10, 4.10),\n",
    "    (11, 3.65),\n",
    "    (12, 4.25),\n",
    "]\n",
    "\n",
    "df = pd.DataFrame(prices, columns=[\"Month\", \"Price_PLN\"])\n",
    "df = df.set_index(\"Month\")\n",
    "Price_USD = df['Price_PLN'].apply(lambda Price_USD: Price_USD / 4)\n",
    "df['Price_USD'] = Price_USD\n",
    "df"
   ]
  },
  {
   "cell_type": "code",
   "execution_count": 39,
   "metadata": {},
   "outputs": [
    {
     "data": {
      "text/plain": [
       "<AxesSubplot:title={'center':'Price of goods (USD)'}, xlabel='Month'>"
      ]
     },
     "execution_count": 39,
     "metadata": {},
     "output_type": "execute_result"
    },
    {
     "data": {
      "image/png": "[encoded data removed]",
      "text/plain": [
       "<Figure size 432x288 with 1 Axes>"
      ]
     },
     "metadata": {
      "needs_background": "light"
     },
     "output_type": "display_data"
    }
   ],
   "source": [
    "df['Price_USD'].plot(kind='line', title='Price of goods (USD)', colormap='autumn', grid=True, style=['--'], ylim=[0,2])"
   ]
  },
  {
   "cell_type": "code",
   "execution_count": null,
   "metadata": {},
   "outputs": [],
   "source": []
  }
 ],
 "metadata": {
  "kernelspec": {
   "display_name": "Python 3",
   "language": "python",
   "name": "python3"
  },
  "language_info": {
   "codemirror_mode": {
    "name": "ipython",
    "version": 3
   },
   "file_extension": ".py",
   "mimetype": "text/x-python",
   "name": "python",
   "nbconvert_exporter": "python",
   "pygments_lexer": "ipython3",
   "version": "3.7.9"
  }
 },
 "nbformat": 4,
 "nbformat_minor": 4
}
